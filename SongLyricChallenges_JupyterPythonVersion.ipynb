{
 "cells": [
  {
   "cell_type": "markdown",
   "id": "b1d69309",
   "metadata": {},
   "source": [
    "# Song Lyric Challenge\n",
    "\n",
    "**Author**: Cliff Hammett\n",
    "\n",
    "**Last update**: 12/11/2024\n",
    "\n",
    "---"
   ]
  },
  {
   "cell_type": "markdown",
   "id": "26bd60be",
   "metadata": {},
   "source": [
    "For these challenges, we will analyse song lyrics from popular artists, including BTS, Taylor Swift, Beyonce and others, using Natural Language Processing and Sentiment Analysis. For challenge A and B, we will use the following dataset:\n",
    "\n",
    "[Song Lyrics dataset on Kaggle](https://www.kaggle.com/datasets/deepshah16/song-lyrics-dataset)\n",
    "\n",
    "This is located in the directory `data_challengeA+B/`. The dataset has some duplication of songs as remixes, which will have the same or largely similar lyrics. You can attempt to deduplicate this data; otherwise, simply proceed to analyse the data but bear in mind this limitation. Also bear in mind that the lyric field sometimes also contains information about which artist is singing a lyric at any point.\n",
    "\n",
    "The above dataset is not suitable for sentiment analysis, because it is missing punctuation/line breaks needed to break it into smaller units. So for Challenge C, on sentiment analysis, we will look at the following dataset, which breaks the data into lines:\n",
    "\n",
    "[Taylor Swift lyrics dataset](https://www.kaggle.com/datasets/PromptCloudHQ/taylor-swift-song-lyrics-from-all-the-albums)\n",
    "\n",
    "This is located in the directory `data_challengeC/`."
   ]
  },
  {
   "cell_type": "markdown",
   "id": "8161c858",
   "metadata": {},
   "source": [
    "## Challenge A: Analyse an artist’s lyrics\n",
    "\n",
    "**Knowledge required:** You will need to use a Natural Language Processing (NLP) library, such as spacy in Python, or udpipe in R. You will also need basic knowledge of data frames. For python users, I have included code that puts a single artist’s lyrics into one string for analysis, to allow you to concentrate on analysing the text (this should be easier to achieve in R)\n",
    "\n",
    "**Skills gained:** Practice in NLP skills, focussing on Parts of Speech (POS) analysis.\n",
    "\n",
    "For this challenge, pick a single artist from the datasets available in the directory `data_challengeA+B/`. Excluding stop words, perform a parts of speech analysis on lemmas to identify the following about this artists song lyrics:\n",
    "\n",
    "* What are the 10 most frequently used verbs?\n",
    "* What are the 10 most frequently used nouns?\n",
    "* What are the 10 most frequently used adjectives\n",
    "* What are the 10 most frequently used adverbs?\n"
   ]
  },
  {
   "cell_type": "markdown",
   "id": "581ab7da",
   "metadata": {},
   "source": [
    "Here are some useful libraries you might want to utilise in your investigation."
   ]
  },
  {
   "cell_type": "code",
   "execution_count": null,
   "id": "d68df14d",
   "metadata": {},
   "outputs": [],
   "source": [
    "import pandas as pd\n",
    "import spacy"
   ]
  },
  {
   "cell_type": "markdown",
   "id": "6301eec9-ae74-4dba-84f1-26e196495f1d",
   "metadata": {},
   "source": [
    "The code below will load one artist and put their lyrics in a single string. Change to your chosen artist (look in the directory for filenames.)"
   ]
  },
  {
   "cell_type": "code",
   "execution_count": null,
   "id": "65a7eda0-87a2-4023-951d-7b4aecd55343",
   "metadata": {},
   "outputs": [],
   "source": [
    "file = \"ArianaGrande.csv\"\n",
    "df = pd.read_csv('data_challengeA+B/' + file)\n",
    "lyrics = df.Lyric.str.cat(sep='; ')"
   ]
  },
  {
   "cell_type": "markdown",
   "id": "58e7bff5",
   "metadata": {},
   "source": [
    "Add more cells as needed, and document as you go."
   ]
  },
  {
   "cell_type": "code",
   "execution_count": null,
   "id": "9f682b0f",
   "metadata": {},
   "outputs": [],
   "source": []
  },
  {
   "cell_type": "code",
   "execution_count": null,
   "id": "f30f6fe3",
   "metadata": {},
   "outputs": [],
   "source": []
  },
  {
   "cell_type": "markdown",
   "id": "f78d520f",
   "metadata": {},
   "source": [
    "What does this suggest to you about the themes that are covered in this artists lyrics? And what are the limitations of this approach? Write some reflections.\n",
    "\n",
    "If, based on your reflections, you can make some improvements to your approach, then make them below:\n"
   ]
  },
  {
   "cell_type": "code",
   "execution_count": null,
   "id": "f357decc-8a1f-46a4-996f-7420399a929f",
   "metadata": {},
   "outputs": [],
   "source": []
  },
  {
   "cell_type": "markdown",
   "id": "3b4553e0",
   "metadata": {},
   "source": [
    "# Challenge B: Compare three artists\n",
    "\n",
    "**Knowledge required:** You will need to use a Natural Language Processing (NLP) library, such as Spacy in Python, or udpipe in R. You will also need basic knowledge of data frames.\n",
    "\n",
    "**Skills practised:** Practice in NLP skills, focussing on Parts of Speech (POS) analysis, interpreting results.\n",
    "\n",
    "Perform a comparative analysis of at least two further artists, to identify the following:\n",
    "\n",
    "How often are your first artists top 10 verb, noun, adjective and adverb lemmas used by these two artists?\n",
    "\n",
    "What are the two additional artists top 10 verb, noun, adjective and adverb lemmas?\n",
    "\n",
    "You might want to write a function for some of the steps to make some of this easier."
   ]
  },
  {
   "cell_type": "code",
   "execution_count": null,
   "id": "174cecb3",
   "metadata": {},
   "outputs": [],
   "source": []
  },
  {
   "cell_type": "code",
   "execution_count": null,
   "id": "09f95b99",
   "metadata": {},
   "outputs": [],
   "source": []
  },
  {
   "cell_type": "code",
   "execution_count": null,
   "id": "3cff1c4e",
   "metadata": {},
   "outputs": [],
   "source": []
  },
  {
   "cell_type": "markdown",
   "id": "39a3e842",
   "metadata": {},
   "source": [
    "How similar or different are the two new artist from the first artist? What does this tell you about the original artist you analysed? What would you attribute this to? Does it challenge any of your original ideas?\n",
    "\n",
    "Can you change these measures, so it shows how frequently this word as opposed to other content words (e.g. as a proportion or a percentage). Does this change your analysis?"
   ]
  },
  {
   "cell_type": "code",
   "execution_count": null,
   "id": "20fcde3f-dfde-4f63-9ce0-bdebfffe9d98",
   "metadata": {},
   "outputs": [],
   "source": []
  },
  {
   "cell_type": "markdown",
   "id": "e3721714",
   "metadata": {},
   "source": [
    "# Challenge C: Sentiment analysis\n",
    "\n",
    "**Knowledge required:** You will need to use a sentiment analysis library, such as nltk/vader in Python, or syuzhet in R. You will also need basic knowledge of data frames.\n",
    "\n",
    "**Skills practised:** Use of and interpretation of sentiment analysis\n",
    "\n",
    "Focus again on one artist. Find a biographical article about the artist, and see how their career is split into different phases. Split the data into these phases (e.g. by year of release), and extract the lyrics from these to compare how sentiment has changed.\n",
    "\n",
    "Calculate average positive or negative sentiment for lyrics in these phases. Is there a meaningful change in sentiment between the chosen phases? How would you account for that change?"
   ]
  },
  {
   "cell_type": "code",
   "execution_count": null,
   "id": "c635ecdd",
   "metadata": {},
   "outputs": [],
   "source": [
    "import nltk\n",
    "from nltk.sentiment.vader import SentimentIntensityAnalyzer"
   ]
  },
  {
   "cell_type": "code",
   "execution_count": null,
   "id": "fc4ece92",
   "metadata": {},
   "outputs": [],
   "source": []
  },
  {
   "cell_type": "code",
   "execution_count": null,
   "id": "32b01c74",
   "metadata": {},
   "outputs": [],
   "source": []
  },
  {
   "cell_type": "markdown",
   "id": "a0a04f0b",
   "metadata": {},
   "source": [
    "As a final challenge, see if you can write a loop that applies sentiment analysis to the lyrics of all the artists, to see whose lyrics has the most positive and negative sentiment of the artists offered. Is it who you expected?"
   ]
  },
  {
   "cell_type": "code",
   "execution_count": null,
   "id": "889f58c2",
   "metadata": {},
   "outputs": [],
   "source": []
  },
  {
   "cell_type": "code",
   "execution_count": null,
   "id": "5b7ac6c3",
   "metadata": {},
   "outputs": [],
   "source": []
  }
 ],
 "metadata": {
  "kernelspec": {
   "display_name": "Python 3 (ipykernel)",
   "language": "python",
   "name": "python3"
  },
  "language_info": {
   "codemirror_mode": {
    "name": "ipython",
    "version": 3
   },
   "file_extension": ".py",
   "mimetype": "text/x-python",
   "name": "python",
   "nbconvert_exporter": "python",
   "pygments_lexer": "ipython3",
   "version": "3.9.20"
  }
 },
 "nbformat": 4,
 "nbformat_minor": 5
}
